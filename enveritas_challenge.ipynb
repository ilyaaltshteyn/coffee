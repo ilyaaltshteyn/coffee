{
 "cells": [
  {
   "cell_type": "code",
   "execution_count": 1,
   "metadata": {
    "collapsed": false
   },
   "outputs": [
    {
     "name": "stderr",
     "output_type": "stream",
     "text": [
      "/usr/local/lib/python2.7/site-packages/matplotlib/font_manager.py:273: UserWarning: Matplotlib is building the font cache using fc-list. This may take a moment.\n",
      "  warnings.warn('Matplotlib is building the font cache using fc-list. This may take a moment.')\n",
      "/usr/local/lib/python2.7/site-packages/sklearn/cross_validation.py:44: DeprecationWarning: This module was deprecated in version 0.18 in favor of the model_selection module into which all the refactored classes and functions are moved. Also note that the interface of the new CV iterators are different from that of this module. This module will be removed in 0.20.\n",
      "  \"This module will be removed in 0.20.\", DeprecationWarning)\n",
      "/usr/local/lib/python2.7/site-packages/sklearn/grid_search.py:43: DeprecationWarning: This module was deprecated in version 0.18 in favor of the model_selection module into which all the refactored classes and functions are moved. This module will be removed in 0.20.\n",
      "  DeprecationWarning)\n"
     ]
    }
   ],
   "source": [
    "import pandas as pd\n",
    "import numpy as np\n",
    "from collections import defaultdict\n",
    "from operator import itemgetter\n",
    "\n",
    "import matplotlib.pyplot as plt\n",
    "import seaborn as sns\n",
    "%matplotlib inline\n",
    "\n",
    "from sklearn.neighbors import KernelDensity\n",
    "from sklearn.grid_search import GridSearchCV\n",
    "from scipy.integrate import trapz # trapezoidal rule to compute integral"
   ]
  },
  {
   "cell_type": "code",
   "execution_count": 2,
   "metadata": {
    "collapsed": false
   },
   "outputs": [],
   "source": [
    "# Import and clean data\n",
    "\n",
    "farm_sizes = pd.read_csv('farm_size_rainforest_sample.csv')[:-2]\n",
    "prod_volume = pd.read_csv('production_volume.csv', usecols=[0,1])[1:-2]\n",
    "\n",
    "str2float = lambda x: np.float(x.replace(',', ''))\n",
    "farm_sizes['prod_area'] = farm_sizes['Area in production (ha)'].apply(str2float)\n",
    "\n",
    "to_kg = lambda x: np.float(x.replace(',', ''))*46\n",
    "prod_volume['prod_in_kg'] = prod_volume['Harvest Year 2015-2016'].apply(to_kg)"
   ]
  },
  {
   "cell_type": "code",
   "execution_count": 3,
   "metadata": {
    "collapsed": false
   },
   "outputs": [
    {
     "data": {
      "text/html": [
       "<div>\n",
       "<table border=\"1\" class=\"dataframe\">\n",
       "  <thead>\n",
       "    <tr style=\"text-align: right;\">\n",
       "      <th></th>\n",
       "      <th># farm</th>\n",
       "      <th>Total area (ha)</th>\n",
       "      <th>Area in production (ha)</th>\n",
       "      <th>prod_area</th>\n",
       "    </tr>\n",
       "  </thead>\n",
       "  <tbody>\n",
       "    <tr>\n",
       "      <th>0</th>\n",
       "      <td>1</td>\n",
       "      <td>1.20</td>\n",
       "      <td>0.80</td>\n",
       "      <td>0.8</td>\n",
       "    </tr>\n",
       "    <tr>\n",
       "      <th>1</th>\n",
       "      <td>2</td>\n",
       "      <td>20.00</td>\n",
       "      <td>20.00</td>\n",
       "      <td>20.0</td>\n",
       "    </tr>\n",
       "    <tr>\n",
       "      <th>2</th>\n",
       "      <td>3</td>\n",
       "      <td>8.00</td>\n",
       "      <td>8.00</td>\n",
       "      <td>8.0</td>\n",
       "    </tr>\n",
       "    <tr>\n",
       "      <th>3</th>\n",
       "      <td>4</td>\n",
       "      <td>5.60</td>\n",
       "      <td>5.60</td>\n",
       "      <td>5.6</td>\n",
       "    </tr>\n",
       "    <tr>\n",
       "      <th>4</th>\n",
       "      <td>5</td>\n",
       "      <td>38.00</td>\n",
       "      <td>38.00</td>\n",
       "      <td>38.0</td>\n",
       "    </tr>\n",
       "  </tbody>\n",
       "</table>\n",
       "</div>"
      ],
      "text/plain": [
       "  # farm Total area (ha) Area in production (ha)  prod_area\n",
       "0      1            1.20                    0.80        0.8\n",
       "1      2           20.00                   20.00       20.0\n",
       "2      3            8.00                    8.00        8.0\n",
       "3      4            5.60                    5.60        5.6\n",
       "4      5           38.00                   38.00       38.0"
      ]
     },
     "execution_count": 3,
     "metadata": {},
     "output_type": "execute_result"
    },
    {
     "data": {
      "image/png": "[encoded data removed]",
      "text/plain": [
       "<matplotlib.figure.Figure at 0x10d56ec90>"
      ]
     },
     "metadata": {},
     "output_type": "display_data"
    }
   ],
   "source": [
    "plt.figure(figsize=(10,6))\n",
    "plt.title('Distribution of production areas across farms')\n",
    "sns.distplot(farm_sizes.prod_area, kde=False)\n",
    "farm_sizes.head()"
   ]
  },
  {
   "cell_type": "code",
   "execution_count": 4,
   "metadata": {
    "collapsed": false
   },
   "outputs": [
    {
     "data": {
      "text/html": [
       "<div>\n",
       "<table border=\"1\" class=\"dataframe\">\n",
       "  <thead>\n",
       "    <tr style=\"text-align: right;\">\n",
       "      <th></th>\n",
       "      <th># farm</th>\n",
       "      <th>Total area (ha)</th>\n",
       "      <th>Area in production (ha)</th>\n",
       "      <th>prod_area</th>\n",
       "    </tr>\n",
       "  </thead>\n",
       "  <tbody>\n",
       "    <tr>\n",
       "      <th>0</th>\n",
       "      <td>1</td>\n",
       "      <td>1.20</td>\n",
       "      <td>0.80</td>\n",
       "      <td>0.8</td>\n",
       "    </tr>\n",
       "    <tr>\n",
       "      <th>1</th>\n",
       "      <td>2</td>\n",
       "      <td>20.00</td>\n",
       "      <td>20.00</td>\n",
       "      <td>20.0</td>\n",
       "    </tr>\n",
       "    <tr>\n",
       "      <th>2</th>\n",
       "      <td>3</td>\n",
       "      <td>8.00</td>\n",
       "      <td>8.00</td>\n",
       "      <td>8.0</td>\n",
       "    </tr>\n",
       "    <tr>\n",
       "      <th>3</th>\n",
       "      <td>4</td>\n",
       "      <td>5.60</td>\n",
       "      <td>5.60</td>\n",
       "      <td>5.6</td>\n",
       "    </tr>\n",
       "    <tr>\n",
       "      <th>4</th>\n",
       "      <td>5</td>\n",
       "      <td>38.00</td>\n",
       "      <td>38.00</td>\n",
       "      <td>38.0</td>\n",
       "    </tr>\n",
       "  </tbody>\n",
       "</table>\n",
       "</div>"
      ],
      "text/plain": [
       "  # farm Total area (ha) Area in production (ha)  prod_area\n",
       "0      1            1.20                    0.80        0.8\n",
       "1      2           20.00                   20.00       20.0\n",
       "2      3            8.00                    8.00        8.0\n",
       "3      4            5.60                    5.60        5.6\n",
       "4      5           38.00                   38.00       38.0"
      ]
     },
     "execution_count": 4,
     "metadata": {},
     "output_type": "execute_result"
    },
    {
     "data": {
      "image/png": "[encoded data removed]",
      "text/plain": [
       "<matplotlib.figure.Figure at 0x10dad14d0>"
      ]
     },
     "metadata": {},
     "output_type": "display_data"
    }
   ],
   "source": [
    "# Investigate round number bias\n",
    "small_farms = [x for x in farm_sizes.prod_area if x < 10]\n",
    "\n",
    "plt.figure(figsize=(16,6))\n",
    "title = 'Farm size distribution for {} farms under 10ha.'\n",
    "plt.title(title.format(len(small_farms)))\n",
    "sns.distplot(small_farms, kde=False, bins=20)\n",
    "farm_sizes.head()"
   ]
  },
  {
   "cell_type": "code",
   "execution_count": 5,
   "metadata": {
    "collapsed": false
   },
   "outputs": [
    {
     "data": {
      "text/plain": [
       "<matplotlib.text.Text at 0x10e1d5ed0>"
      ]
     },
     "execution_count": 5,
     "metadata": {},
     "output_type": "execute_result"
    },
    {
     "data": {
      "image/png": "[encoded data removed]",
      "text/plain": [
       "<matplotlib.figure.Figure at 0x10daa5d10>"
      ]
     },
     "metadata": {},
     "output_type": "display_data"
    }
   ],
   "source": [
    "# Investigate round number bias part 2\n",
    "decimals = defaultdict(int)\n",
    "for x in small_farms:\n",
    "    decimals['{:.1f}'.format(float(x))[-1]] += 1\n",
    "\n",
    "decimals = sorted(decimals.items(), key=itemgetter(0))\n",
    "r, b = ('#F95D5F','#414141')\n",
    "colors = [r, b, b, b, b, r, b, b, b, b]\n",
    "plt.figure(figsize = (16,6))\n",
    "plt.bar(range(len(decimals)), [x[1] for x in decimals], color = colors)\n",
    "plt.xticks(range(len(decimals)), [x[0] for x in decimals])\n",
    "plt.title('Farm production areas are rounded.')"
   ]
  },
  {
   "cell_type": "code",
   "execution_count": 6,
   "metadata": {
    "collapsed": false
   },
   "outputs": [
    {
     "name": "stdout",
     "output_type": "stream",
     "text": [
      "1197/3850 farms produced zero kg.\n"
     ]
    },
    {
     "data": {
      "text/html": [
       "<div>\n",
       "<table border=\"1\" class=\"dataframe\">\n",
       "  <thead>\n",
       "    <tr style=\"text-align: right;\">\n",
       "      <th></th>\n",
       "      <th># Farm</th>\n",
       "      <th>Harvest Year 2015-2016</th>\n",
       "      <th>prod_in_kg</th>\n",
       "    </tr>\n",
       "  </thead>\n",
       "  <tbody>\n",
       "    <tr>\n",
       "      <th>1</th>\n",
       "      <td>1</td>\n",
       "      <td>111.94</td>\n",
       "      <td>5149.24</td>\n",
       "    </tr>\n",
       "    <tr>\n",
       "      <th>2</th>\n",
       "      <td>2</td>\n",
       "      <td>2.55</td>\n",
       "      <td>117.30</td>\n",
       "    </tr>\n",
       "    <tr>\n",
       "      <th>3</th>\n",
       "      <td>3</td>\n",
       "      <td>4.44</td>\n",
       "      <td>204.24</td>\n",
       "    </tr>\n",
       "    <tr>\n",
       "      <th>5</th>\n",
       "      <td>5</td>\n",
       "      <td>1.09</td>\n",
       "      <td>50.14</td>\n",
       "    </tr>\n",
       "    <tr>\n",
       "      <th>6</th>\n",
       "      <td>6</td>\n",
       "      <td>6.25</td>\n",
       "      <td>287.50</td>\n",
       "    </tr>\n",
       "  </tbody>\n",
       "</table>\n",
       "</div>"
      ],
      "text/plain": [
       "  # Farm Harvest Year 2015-2016  prod_in_kg\n",
       "1      1                 111.94     5149.24\n",
       "2      2                   2.55      117.30\n",
       "3      3                   4.44      204.24\n",
       "5      5                   1.09       50.14\n",
       "6      6                   6.25      287.50"
      ]
     },
     "execution_count": 6,
     "metadata": {},
     "output_type": "execute_result"
    },
    {
     "data": {
      "image/png": "[encoded data removed]",
      "text/plain": [
       "<matplotlib.figure.Figure at 0x105300b90>"
      ]
     },
     "metadata": {},
     "output_type": "display_data"
    }
   ],
   "source": [
    "print '{}/{} farms produced zero kg.'.format(len(prod_volume[prod_volume.prod_in_kg == 0]), \n",
    "                                             len(prod_volume))\n",
    "# Only use data from farms that produced something\n",
    "prod_volume = prod_volume[prod_volume.prod_in_kg > 0]\n",
    "\n",
    "plt.figure(figsize=(10,6))\n",
    "plt.title('Distribution of production volumes across farms, in kg.')\n",
    "sns.distplot(prod_volume.prod_in_kg, kde=False)\n",
    "prod_volume.head()"
   ]
  },
  {
   "cell_type": "code",
   "execution_count": 7,
   "metadata": {
    "collapsed": false
   },
   "outputs": [],
   "source": [
    "def best_kde(dat):\n",
    "    \"\"\" Optimizes KDE params using cross validation. Returns KDE w/best params. \"\"\"\n",
    "    \n",
    "    data = dat[:, None]\n",
    "    grid = GridSearchCV(KernelDensity(),\n",
    "                        {'bandwidth': np.linspace(0.1, dat.max()/50, 20),\n",
    "                         'kernel' : ['tophat', 'epanechnikov', 'gaussian']},\n",
    "                        cv=25)\n",
    "    grid.fit(data)\n",
    "\n",
    "    print grid.best_params_\n",
    "    return grid.best_estimator_"
   ]
  },
  {
   "cell_type": "code",
   "execution_count": 8,
   "metadata": {
    "collapsed": false
   },
   "outputs": [],
   "source": [
    "def plot_kde(kde, dat, xlabel, title):\n",
    "    \"\"\" Plots data and KDE curve together. \"\"\"\n",
    "    \n",
    "    x_grid = np.linspace(dat.min(), dat.max(), 500)\n",
    "    pdf = np.exp(kde.score_samples(x_grid[:, None]))\n",
    "\n",
    "    fig, ax = plt.subplots(figsize=(14,8))\n",
    "    ax.plot(x_grid, pdf, linewidth=3, alpha=0.5)\n",
    "    ax.hist(dat, 40, normed=True)\n",
    "    plt.xlabel(xlabel)\n",
    "    plt.ylabel('Probability density')\n",
    "    plt.title(title)\n",
    "    plt.show()"
   ]
  },
  {
   "cell_type": "code",
   "execution_count": 9,
   "metadata": {
    "collapsed": false
   },
   "outputs": [],
   "source": [
    "def integrate(bounds, kde, dat, name):\n",
    "    \"\"\" Prints estimated # of farms in costa rica with variable of interest between\n",
    "        the lower and upper bounds. Separate estimates based on kde curve and on the \n",
    "        number of farms in the available data. \"\"\"\n",
    "\n",
    "    lower, upper = bounds\n",
    "    r = np.linspace(lower, upper, 1000)\n",
    "    integral = trapz(np.exp(kde.score_samples(r.reshape(-1,1))), r )\n",
    "    empirical = len(dat[dat >= lower][dat <= upper])*(26527./len(dat))\n",
    "    \n",
    "    print \"{} range: {} to {}\".format(name, lower, upper)\n",
    "    print \"Estimated # farms in your range (includes bounds): {:.2f}\".format(integral*26527)    \n",
    "    print '# farms in your range based on multiplying available data: ', empirical"
   ]
  },
  {
   "cell_type": "code",
   "execution_count": 10,
   "metadata": {
    "collapsed": false
   },
   "outputs": [
    {
     "name": "stdout",
     "output_type": "stream",
     "text": [
      "{'kernel': 'gaussian', 'bandwidth': 1.1894736842105262}\n"
     ]
    },
    {
     "data": {
      "image/png": "[encoded data removed]",
      "text/plain": [
       "<matplotlib.figure.Figure at 0x10e36b750>"
      ]
     },
     "metadata": {},
     "output_type": "display_data"
    }
   ],
   "source": [
    "# KDE for production area\n",
    "prod_area = farm_sizes['prod_area']\n",
    "kde_area = best_kde(prod_area)\n",
    "plot_kde(kde_area, prod_area, 'Production area', \n",
    "         'Production areas of farms, in hectacres')"
   ]
  },
  {
   "cell_type": "code",
   "execution_count": 11,
   "metadata": {
    "collapsed": false
   },
   "outputs": [
    {
     "name": "stdout",
     "output_type": "stream",
     "text": [
      "Production area range: 5 to 10\n",
      "Estimated # farms in your range (includes bounds): 3128.53\n",
      "# farms in your range based on multiplying available data:  3157.41725664\n"
     ]
    }
   ],
   "source": [
    "# Make area estimates\n",
    "integrate((5, 10), kde_area, prod_area, 'Production area')"
   ]
  },
  {
   "cell_type": "code",
   "execution_count": 12,
   "metadata": {
    "collapsed": false
   },
   "outputs": [
    {
     "name": "stdout",
     "output_type": "stream",
     "text": [
      "{'kernel': 'gaussian', 'bandwidth': 327.2458947368421}\n"
     ]
    },
    {
     "data": {
      "image/png": "[encoded data removed]",
      "text/plain": [
       "<matplotlib.figure.Figure at 0x10dcf5550>"
      ]
     },
     "metadata": {},
     "output_type": "display_data"
    }
   ],
   "source": [
    "# KDE for prod volume\n",
    "prod_vol = prod_volume['prod_in_kg']\n",
    "kde_volume = best_kde(prod_vol)\n",
    "plot_kde(kde_volume, prod_vol, 'Production volume', \n",
    "         'Production volumes of farms, in fanegas')"
   ]
  },
  {
   "cell_type": "code",
   "execution_count": 13,
   "metadata": {
    "collapsed": false
   },
   "outputs": [
    {
     "name": "stdout",
     "output_type": "stream",
     "text": [
      "Production volume range: 5000 to 10000\n",
      "Estimated # farms in your range (includes bounds): 2152.66\n",
      "# farms in your range based on multiplying available data:  2149.756879\n"
     ]
    }
   ],
   "source": [
    "# Make prod volume estimates\n",
    "integrate((5000, 10000), kde_volume, prod_vol, 'Production volume')"
   ]
  },
  {
   "cell_type": "code",
   "execution_count": null,
   "metadata": {
    "collapsed": false
   },
   "outputs": [],
   "source": []
  }
 ],
 "metadata": {
  "kernelspec": {
   "display_name": "Python 2",
   "language": "python",
   "name": "python2"
  },
  "language_info": {
   "codemirror_mode": {
    "name": "ipython",
    "version": 2
   },
   "file_extension": ".py",
   "mimetype": "text/x-python",
   "name": "python",
   "nbconvert_exporter": "python",
   "pygments_lexer": "ipython2",
   "version": "2.7.9"
  }
 },
 "nbformat": 4,
 "nbformat_minor": 0
}
